{
 "cells": [
  {
   "cell_type": "markdown",
   "id": "1770ef82-542b-4d13-af61-c635dc5a07c2",
   "metadata": {},
   "source": [
    "## TASKS:\n"
   ]
  },
  {
   "cell_type": "markdown",
   "id": "a792a6db-2f0f-426c-89b5-fc6c3502ac62",
   "metadata": {},
   "source": [
    "## 1.Check whether given word is palindrome or not ?\n",
    "## 2.Write a python program to find the smallest among three numbers?\n",
    "## 3.find the second largest number in a list ?\n",
    "## 4.calculate BMI and categorize it ?\n",
    "## 5.Check vote Eligibulity ?\n",
    "## 6.Find the person belongs to which group ?\n",
    "#### schoolgroup -lessthan 22\n",
    "#### work group graterthan 22 and lessthan 50\n",
    "#### Retire group graterthan 50"
   ]
  },
  {
   "cell_type": "code",
   "execution_count": null,
   "id": "d1308b40-19ca-4ba5-8d91-f54974b5c507",
   "metadata": {},
   "outputs": [],
   "source": []
  },
  {
   "cell_type": "markdown",
   "id": "ba611227-5710-416e-9f01-268e630117e8",
   "metadata": {},
   "source": [
    "## 1.leap year"
   ]
  },
  {
   "cell_type": "code",
   "execution_count": 1,
   "id": "c0211fe4-131b-4ef1-8427-fb19cde58aa6",
   "metadata": {},
   "outputs": [
    {
     "name": "stdin",
     "output_type": "stream",
     "text": [
      "enter u r year 2024\n"
     ]
    },
    {
     "name": "stdout",
     "output_type": "stream",
     "text": [
      "2024 is a leap year\n"
     ]
    }
   ],
   "source": [
    "A=int(input(\"enter u r year\"))\n",
    "if(A%4==0 and A%100!=0):\n",
    "    print(A,\"is a leap year\")\n",
    "else:\n",
    "    print(A,\"is a not leap year\")\n"
   ]
  },
  {
   "cell_type": "markdown",
   "id": "2576c063-2125-4d30-934d-9dfded4d8fcf",
   "metadata": {},
   "source": [
    "## 2.Write a python program to find the smallest among three numbers?"
   ]
  },
  {
   "cell_type": "code",
   "execution_count": 17,
   "id": "388b4084-b40c-44a6-994f-0ce40311aefa",
   "metadata": {},
   "outputs": [
    {
     "name": "stdin",
     "output_type": "stream",
     "text": [
      "Enter the Number a : 50\n",
      "Enter the Number b : 60\n",
      "Enter the Number c : 4\n"
     ]
    },
    {
     "name": "stdout",
     "output_type": "stream",
     "text": [
      "smallest num is c: 4\n"
     ]
    }
   ],
   "source": [
    "a = int(input(\"Enter the Number a :\"))\n",
    "b = int(input(\"Enter the Number b :\"))\n",
    "c = int(input(\"Enter the Number c :\"))\n",
    "if(a <= b and a <= c):\n",
    "    print(\"smallest num is a:\",a)\n",
    " \n",
    "elif(b <= a and b <= c):\n",
    "    print(\"smallest num is b:\",b)\n",
    "else:\n",
    "    print(\"smallest num is c:\",c)"
   ]
  },
  {
   "cell_type": "code",
   "execution_count": null,
   "id": "36af9912-47ac-4d76-afce-5e91ebc7b729",
   "metadata": {},
   "outputs": [],
   "source": []
  },
  {
   "cell_type": "code",
   "execution_count": null,
   "id": "b0eac136-b07c-4774-bf7e-90bb85b499e0",
   "metadata": {},
   "outputs": [],
   "source": []
  },
  {
   "cell_type": "markdown",
   "id": "c900da0b-e5bf-4273-b1e7-2f02a23a58c6",
   "metadata": {},
   "source": [
    "## 4.calculate BMI and categorize it ?"
   ]
  },
  {
   "cell_type": "code",
   "execution_count": 22,
   "id": "7a928998-5d4b-4ec7-9d1a-1cfb0867d2ac",
   "metadata": {},
   "outputs": [
    {
     "name": "stdin",
     "output_type": "stream",
     "text": [
      "Enter your Weight 60\n"
     ]
    },
    {
     "name": "stdout",
     "output_type": "stream",
     "text": [
      "challa dhobhi tinnav therigi echaaii\n"
     ]
    }
   ],
   "source": [
    "A = int(input(\"Enter your Weight\"))\n",
    "if(A<50):\n",
    "    print(\"Guru nekuu food ledha entii\")\n",
    "\n",
    "elif(A==50):\n",
    "    print(\"good broo\")\n",
    "\n",
    "else:\n",
    "    print(\"challa dhobhi tinnav therigi echaaii\")"
   ]
  },
  {
   "cell_type": "code",
   "execution_count": null,
   "id": "372d37ba-66b4-4c50-9190-7423d09d8077",
   "metadata": {},
   "outputs": [],
   "source": []
  },
  {
   "cell_type": "code",
   "execution_count": null,
   "id": "7cfbf2e1-c51f-4e19-a2e3-29b282f1efc1",
   "metadata": {},
   "outputs": [],
   "source": []
  },
  {
   "cell_type": "markdown",
   "id": "b47f8983-26c9-4a0a-a37c-7d87c9a55526",
   "metadata": {},
   "source": [
    "## 5.Check vote Eligibulity ?"
   ]
  },
  {
   "cell_type": "code",
   "execution_count": 25,
   "id": "0d8b465a-0f89-469d-b50d-3eb90edc55b0",
   "metadata": {},
   "outputs": [
    {
     "name": "stdin",
     "output_type": "stream",
     "text": [
      "Enter your Age 20\n"
     ]
    },
    {
     "name": "stdout",
     "output_type": "stream",
     "text": [
      "u can vote\n"
     ]
    }
   ],
   "source": [
    "Age= int(input(\"Enter your Age\"))\n",
    "if(Age<18):\n",
    "    print(\"u cant vote\")\n",
    "\n",
    "else:\n",
    "    print(\"u can vote\")"
   ]
  },
  {
   "cell_type": "code",
   "execution_count": null,
   "id": "e28d872f-3deb-455e-ac4b-7d50120879b4",
   "metadata": {},
   "outputs": [],
   "source": []
  },
  {
   "cell_type": "code",
   "execution_count": null,
   "id": "b603da08-287c-43c0-900f-45b466c566b6",
   "metadata": {},
   "outputs": [],
   "source": []
  },
  {
   "cell_type": "markdown",
   "id": "60a98db5-0027-453b-88ec-e0ad0175c68e",
   "metadata": {},
   "source": [
    "## 6.Find the person belongs to which group ?\n",
    "#### schoolgroup -lessthan 22\n",
    "#### work group graterthan 22 and lessthan 50\n",
    "#### Retire group graterthan 50"
   ]
  },
  {
   "cell_type": "code",
   "execution_count": null,
   "id": "b92e41e9-197a-417b-b933-3d3bfda15f09",
   "metadata": {},
   "outputs": [],
   "source": []
  },
  {
   "cell_type": "code",
   "execution_count": 31,
   "id": "abafa54c-ce2d-4622-9bfa-2873bed579ea",
   "metadata": {},
   "outputs": [
    {
     "name": "stdin",
     "output_type": "stream",
     "text": [
      "Enter your Age 28\n"
     ]
    },
    {
     "name": "stdout",
     "output_type": "stream",
     "text": [
      "Edhina pani chusukoraa\n"
     ]
    }
   ],
   "source": [
    "Age= int(input(\"Enter your Age\"))\n",
    "if(Age<22):\n",
    "    print(\"chaduvukondi firstuu\")\n",
    "elif(Age>22 and Age<=50):\n",
    "    print(\"Edhina pani chusukoraa\")\n",
    "\n",
    "else:\n",
    "    print(\"Retire pension group\")"
   ]
  },
  {
   "cell_type": "code",
   "execution_count": null,
   "id": "cf5652be-efa8-4cff-a66d-28e2d5fca264",
   "metadata": {},
   "outputs": [],
   "source": []
  }
 ],
 "metadata": {
  "kernelspec": {
   "display_name": "Python 3 (ipykernel)",
   "language": "python",
   "name": "python3"
  },
  "language_info": {
   "codemirror_mode": {
    "name": "ipython",
    "version": 3
   },
   "file_extension": ".py",
   "mimetype": "text/x-python",
   "name": "python",
   "nbconvert_exporter": "python",
   "pygments_lexer": "ipython3",
   "version": "3.12.4"
  }
 },
 "nbformat": 4,
 "nbformat_minor": 5
}
