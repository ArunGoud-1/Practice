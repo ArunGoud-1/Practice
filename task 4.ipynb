{
 "cells": [
  {
   "cell_type": "code",
   "execution_count": null,
   "id": "eb3526c9-a110-421a-a5fd-99ee37751420",
   "metadata": {},
   "outputs": [],
   "source": []
  },
  {
   "cell_type": "markdown",
   "id": "f221bf83-bdaf-466a-921a-e832d9d15958",
   "metadata": {},
   "source": [
    "## check if num is prime num using functions."
   ]
  },
  {
   "cell_type": "code",
   "execution_count": 22,
   "id": "4dfc0f09-c0c4-40af-9b89-7b40232ba76c",
   "metadata": {},
   "outputs": [
    {
     "name": "stdin",
     "output_type": "stream",
     "text": [
      "Enter a number: 6\n"
     ]
    },
    {
     "name": "stdout",
     "output_type": "stream",
     "text": [
      "6  :given number Not prime \n"
     ]
    }
   ],
   "source": [
    "A=int(input(\"Enter a number:\"))\n",
    "def prime(A):\n",
    "    for i in range(2,A):\n",
    "        if(A % i==0):\n",
    "            print(A,\" :given number Not prime \")\n",
    "            break\n",
    "    else:\n",
    "        print(A,\" :given number is prime num\")\n",
    "        \n",
    "prime(A)"
   ]
  },
  {
   "cell_type": "code",
   "execution_count": null,
   "id": "a18aef34-fa14-4599-9cfb-7348fe4ba314",
   "metadata": {},
   "outputs": [],
   "source": []
  },
  {
   "cell_type": "code",
   "execution_count": null,
   "id": "acbff971-cf01-4c44-86f2-71e149ce471e",
   "metadata": {},
   "outputs": [],
   "source": []
  },
  {
   "cell_type": "code",
   "execution_count": null,
   "id": "e4372372-c2f5-4ea2-8988-db7bfc338ca8",
   "metadata": {},
   "outputs": [],
   "source": []
  },
  {
   "cell_type": "markdown",
   "id": "d23a782c-8900-42a0-872d-676083e74b61",
   "metadata": {},
   "source": [
    "## Pattern printing :"
   ]
  },
  {
   "cell_type": "code",
   "execution_count": 24,
   "id": "579b71a5-0c5c-46d7-976c-ae60f4d4d8e5",
   "metadata": {},
   "outputs": [
    {
     "name": "stdin",
     "output_type": "stream",
     "text": [
      "ente a num : 5\n"
     ]
    },
    {
     "name": "stdout",
     "output_type": "stream",
     "text": [
      "11111\n",
      "2222\n",
      "333\n",
      "44\n",
      "5\n"
     ]
    }
   ],
   "source": [
    "a = int(input(\"ente a num :\"))\n",
    "for i in range(a,0,-1):\n",
    "    print(str(a-i+1) * i)"
   ]
  },
  {
   "cell_type": "code",
   "execution_count": null,
   "id": "ee7d47a0-8b30-4e62-8770-d2caf96b227b",
   "metadata": {},
   "outputs": [],
   "source": []
  },
  {
   "cell_type": "code",
   "execution_count": null,
   "id": "f92f02bb-b842-4511-bcb6-45b3f77e6e83",
   "metadata": {},
   "outputs": [],
   "source": []
  },
  {
   "cell_type": "markdown",
   "id": "310debb5-364d-4006-91a5-af5f92b495dc",
   "metadata": {},
   "source": [
    "  ## converting celsius to fhernheat"
   ]
  },
  {
   "cell_type": "code",
   "execution_count": null,
   "id": "3f60e948-eed5-4883-a7c8-0142597d2631",
   "metadata": {},
   "outputs": [],
   "source": []
  },
  {
   "cell_type": "code",
   "execution_count": 103,
   "id": "711a9ab5-22e1-45eb-b198-3d3588e0586c",
   "metadata": {},
   "outputs": [
    {
     "name": "stdin",
     "output_type": "stream",
     "text": [
      "Enter temp to convert to fahrenheat : 5\n"
     ]
    },
    {
     "name": "stdout",
     "output_type": "stream",
     "text": [
      "5.0 celsius is equals to 41.0 fahernheat\n"
     ]
    }
   ],
   "source": [
    "A = float(input(\"Enter temp to convert to fahrenheat :\"))\n",
    "def temp(c):\n",
    "    g = ((c * 9/5)+32)\n",
    "    return g\n",
    "B = temp(A)\n",
    "print(f\"{A} celsius is equals to {B} fahernheat\")"
   ]
  },
  {
   "cell_type": "code",
   "execution_count": null,
   "id": "22cdf867-3806-4c5f-a041-6cc3af223816",
   "metadata": {},
   "outputs": [],
   "source": []
  },
  {
   "cell_type": "markdown",
   "id": "ecf06bbd-5ae6-4bb9-8581-f50fa0fc1685",
   "metadata": {},
   "source": [
    "## SIMPLE INTREST :"
   ]
  },
  {
   "cell_type": "code",
   "execution_count": 115,
   "id": "b9727d1f-e7d0-4254-b79a-3549ea5b7c36",
   "metadata": {},
   "outputs": [
    {
     "name": "stdin",
     "output_type": "stream",
     "text": [
      "Enter principle amount : 1000\n",
      "Enter rate of intrest : 10\n",
      "Enter time : 5\n"
     ]
    },
    {
     "name": "stdout",
     "output_type": "stream",
     "text": [
      "intrest amount is : 500.0\n"
     ]
    }
   ],
   "source": [
    "A = int(input(\"Enter principle amount :\"))\n",
    "B = int(input(\"Enter rate of intrest :\"))\n",
    "C = int(input(\"Enter time :\"))\n",
    "def simple_intrest(A,B,C):\n",
    "    g = (A * B * C/100)\n",
    "    return g\n",
    "H = simple_intrest(A,B,C)\n",
    "print(f\"intrest amount is :\",H)"
   ]
  },
  {
   "cell_type": "code",
   "execution_count": null,
   "id": "d9503c47-5e8c-438a-bec6-ce24926962ce",
   "metadata": {},
   "outputs": [],
   "source": []
  },
  {
   "cell_type": "markdown",
   "id": "1c45cf31-0c6a-4236-8a65-50146db73472",
   "metadata": {},
   "source": [
    "## CONVERT INTEGER TO DECIMAL :"
   ]
  },
  {
   "cell_type": "code",
   "execution_count": 11,
   "id": "6dae73ad-cc0e-48f4-ad82-23d9d64ce3bc",
   "metadata": {},
   "outputs": [
    {
     "name": "stdin",
     "output_type": "stream",
     "text": [
      "Enter principle amount : 55\n"
     ]
    },
    {
     "data": {
      "text/plain": [
       "55.0"
      ]
     },
     "execution_count": 11,
     "metadata": {},
     "output_type": "execute_result"
    }
   ],
   "source": [
    "A = int(input(\"Enter principle amount :\"))\n",
    "def convert(A):\n",
    "    b = float(A)\n",
    "    return b\n",
    "    print(b)\n",
    "\n",
    "convert(A)"
   ]
  },
  {
   "cell_type": "code",
   "execution_count": null,
   "id": "ef4ba9ce-eb49-4251-9cbe-cc1fd6fcfdfb",
   "metadata": {},
   "outputs": [],
   "source": []
  },
  {
   "cell_type": "code",
   "execution_count": null,
   "id": "14f02f78-594f-44d1-872f-992628827673",
   "metadata": {},
   "outputs": [],
   "source": []
  },
  {
   "cell_type": "markdown",
   "id": "ba549847-628c-47f1-8661-c308da1c73ac",
   "metadata": {},
   "source": [
    "## Given string contains Digits or not :"
   ]
  },
  {
   "cell_type": "code",
   "execution_count": null,
   "id": "40a98c08-f91c-4e86-8f26-526bc83719a9",
   "metadata": {},
   "outputs": [],
   "source": []
  },
  {
   "cell_type": "code",
   "execution_count": 36,
   "id": "342775ff-763a-4cdb-b3c3-99f921d6c1e3",
   "metadata": {},
   "outputs": [
    {
     "name": "stdin",
     "output_type": "stream",
     "text": [
      "Enter a string: arungoud2144\n"
     ]
    },
    {
     "name": "stdout",
     "output_type": "stream",
     "text": [
      "a  = is alpha\n",
      "r  = is alpha\n",
      "u  = is alpha\n",
      "n  = is alpha\n",
      "g  = is alpha\n",
      "o  = is alpha\n",
      "u  = is alpha\n",
      "d  = is alpha\n",
      "2  = is digit\n",
      "1  = is digit\n",
      "4  = is digit\n",
      "4  = is digit\n"
     ]
    }
   ],
   "source": [
    "Riya=input(\"Enter a string:\")\n",
    "for i in Riya:\n",
    "    if i.isdigit():\n",
    "        print(i,\" = is digit\")\n",
    "    elif i.isalpha():\n",
    "        print(i,\" = is alpha\")\n",
    "        \n",
    "    else:\n",
    "        print(\"Error (Riyaa)\")"
   ]
  },
  {
   "cell_type": "code",
   "execution_count": null,
   "id": "5d7f6d66-bdfe-42a8-aa65-c4b68e7787b4",
   "metadata": {},
   "outputs": [],
   "source": []
  },
  {
   "cell_type": "code",
   "execution_count": null,
   "id": "7628fb1d-a603-48d1-9c46-dbe84a45323a",
   "metadata": {},
   "outputs": [],
   "source": []
  },
  {
   "cell_type": "code",
   "execution_count": null,
   "id": "244d0970-b484-4a4f-907f-46d6fe478502",
   "metadata": {},
   "outputs": [],
   "source": []
  },
  {
   "cell_type": "markdown",
   "id": "ed030ad8-fa07-4b0c-94ed-0de6f9b5b96f",
   "metadata": {},
   "source": [
    " ## Armstrong Numbers number or Not :"
   ]
  },
  {
   "cell_type": "code",
   "execution_count": null,
   "id": "ff059a2e-f163-49d0-a781-57550a9348ec",
   "metadata": {},
   "outputs": [],
   "source": []
  },
  {
   "cell_type": "code",
   "execution_count": 66,
   "id": "bfa4519f-ca44-4dfe-81fb-6ecf1bcadf9f",
   "metadata": {},
   "outputs": [
    {
     "name": "stdin",
     "output_type": "stream",
     "text": [
      "Enter a number:  9474\n"
     ]
    },
    {
     "name": "stdout",
     "output_type": "stream",
     "text": [
      "9474  : is an Armstrong Number\n"
     ]
    }
   ],
   "source": [
    "A = int(input(\"Enter a number: \"))\n",
    "B = A  \n",
    "digit, sum = 0, 0\n",
    "length = len(str(A)) \n",
    "\n",
    "for i in range(length):\n",
    "    digit = A % 10    \n",
    "    A = A // 10       \n",
    "    sum += pow(digit, length)\n",
    "if sum == B:\n",
    "    print(B,\" : is an Armstrong Number\")\n",
    "else:\n",
    "    print(B,\" : is not an Armstrong Number\")"
   ]
  },
  {
   "cell_type": "code",
   "execution_count": null,
   "id": "99d01a32-4d91-4220-baf3-2b395241f7e8",
   "metadata": {},
   "outputs": [],
   "source": []
  },
  {
   "cell_type": "code",
   "execution_count": null,
   "id": "9a77df70-637c-4847-94ca-4fa98b997947",
   "metadata": {},
   "outputs": [],
   "source": []
  },
  {
   "cell_type": "markdown",
   "id": "6ed241bf-25dc-4432-9578-0fcd9434ad65",
   "metadata": {},
   "source": [
    "## swap two variables  without using thrid variable :"
   ]
  },
  {
   "cell_type": "code",
   "execution_count": null,
   "id": "68b90d3f-5d54-49fe-9ca5-3c2adb1d1ce5",
   "metadata": {},
   "outputs": [],
   "source": []
  },
  {
   "cell_type": "code",
   "execution_count": 14,
   "id": "e4b0adfb-4cbf-46e5-b50d-b0147276c891",
   "metadata": {},
   "outputs": [
    {
     "name": "stdin",
     "output_type": "stream",
     "text": [
      "Enter value of A  6\n",
      "Enter value of B 1\n"
     ]
    },
    {
     "name": "stdout",
     "output_type": "stream",
     "text": [
      " value is A : 1\n",
      " value is B : 6\n"
     ]
    }
   ],
   "source": [
    "A = int(input(\"Enter value of A \"))\n",
    "B = int(input(\"Enter value of B\"))\n",
    "A,B = B,A\n",
    "print(\" value is A :\",A)\n",
    "print(\" value is B :\",B)"
   ]
  },
  {
   "cell_type": "code",
   "execution_count": null,
   "id": "c8c44ac5-6ba6-4a98-b889-daca3c692e68",
   "metadata": {},
   "outputs": [],
   "source": []
  },
  {
   "cell_type": "code",
   "execution_count": null,
   "id": "ac4a3b09-10a4-4f77-9dac-39a8197813cf",
   "metadata": {},
   "outputs": [],
   "source": []
  },
  {
   "cell_type": "markdown",
   "id": "de014935-8b05-4c5f-bb6b-1b43535d32e3",
   "metadata": {},
   "source": [
    "## Add two values without using arthmetic operators :"
   ]
  },
  {
   "cell_type": "code",
   "execution_count": null,
   "id": "dc5fab0c-810b-48c5-9612-cac4f00ab2a9",
   "metadata": {},
   "outputs": [],
   "source": []
  },
  {
   "cell_type": "code",
   "execution_count": 32,
   "id": "ee10fe8b-d1e1-4d8b-b5d3-002e99e6a815",
   "metadata": {},
   "outputs": [
    {
     "name": "stdin",
     "output_type": "stream",
     "text": [
      "Enter value of A  5299\n",
      "Enter value of B  1\n"
     ]
    },
    {
     "name": "stdout",
     "output_type": "stream",
     "text": [
      " sum is A : 5300\n"
     ]
    }
   ],
   "source": [
    "A = int(input(\"Enter value of A \"))\n",
    "B = int(input(\"Enter value of B \"))\n",
    "C = sum([A,B])\n",
    "print(f\" sum is A :\",C)"
   ]
  },
  {
   "cell_type": "markdown",
   "id": "bbe75d2f-5565-4785-a75f-42a2b534ea26",
   "metadata": {},
   "source": []
  },
  {
   "cell_type": "code",
   "execution_count": null,
   "id": "8af9a9aa-bdef-401e-a497-f2645e7508ca",
   "metadata": {},
   "outputs": [],
   "source": []
  },
  {
   "cell_type": "markdown",
   "id": "8848acb7-7bdc-4aef-8e7d-45d3a93673a2",
   "metadata": {},
   "source": [
    "##  Remove Duplicate valuse  from the list:"
   ]
  },
  {
   "cell_type": "code",
   "execution_count": null,
   "id": "8ec37056-430a-4477-8a0d-fd43134ad67a",
   "metadata": {},
   "outputs": [],
   "source": []
  },
  {
   "cell_type": "code",
   "execution_count": 43,
   "id": "c4a1fe75-3d45-497f-8b25-168f09e5478d",
   "metadata": {},
   "outputs": [
    {
     "name": "stdout",
     "output_type": "stream",
     "text": [
      "After removing duplicates from lis  : [1, 2, 3, 4, 5, 6, 21]\n"
     ]
    }
   ],
   "source": [
    "List = [1, 2, 2, 3, 4, 4, 5,5,6,3,21,21]\n",
    "removeDup = list(set(List))\n",
    "\n",
    "print(\"After removing duplicates from lis  :\",removeDup)"
   ]
  },
  {
   "cell_type": "code",
   "execution_count": null,
   "id": "db866f7a-8c23-43f8-a804-b9d621f716eb",
   "metadata": {},
   "outputs": [],
   "source": []
  },
  {
   "cell_type": "code",
   "execution_count": null,
   "id": "ea74df48-d920-44d7-be0b-b616d45d7448",
   "metadata": {},
   "outputs": [],
   "source": []
  },
  {
   "cell_type": "code",
   "execution_count": null,
   "id": "48afaa7f-ee6e-424b-be7b-a9a58e01c59a",
   "metadata": {},
   "outputs": [],
   "source": []
  },
  {
   "cell_type": "code",
   "execution_count": null,
   "id": "6bfb1f2a-8ef9-4c48-b79d-be13039a1385",
   "metadata": {},
   "outputs": [],
   "source": [
    "## "
   ]
  },
  {
   "cell_type": "code",
   "execution_count": 66,
   "id": "940b5ae8-a798-4355-bf3b-7beeaba57f26",
   "metadata": {},
   "outputs": [
    {
     "name": "stdout",
     "output_type": "stream",
     "text": [
      "============================================================================================================================\n",
      "WELCOME TO VAMSI RESTAURANT\n"
     ]
    },
    {
     "name": "stdin",
     "output_type": "stream",
     "text": [
      "Enter what you want sir (veg or nonveg):  nonveg\n"
     ]
    },
    {
     "name": "stdout",
     "output_type": "stream",
     "text": [
      "Here are the non-veg items we are serving: ['chicken biryani', 'mutton fry', 'mutton biryani', 'chilli chicken', 'chicken kabab']\n"
     ]
    },
    {
     "name": "stdin",
     "output_type": "stream",
     "text": [
      "Enter the item you want to eat:  chilli chicken\n"
     ]
    },
    {
     "name": "stdout",
     "output_type": "stream",
     "text": [
      "You orderer   chilli chicken  will be served in 20 min please wait patiently\n",
      "Dont skip the Bill\n",
      "thanks for visiting VAMSI RESTAURANT\n",
      "===================================================================================================================================\n"
     ]
    }
   ],
   "source": [
    "print(\"============================================================================================================================\")\n",
    "print(\"WELCOME TO VAMSI RESTAURANT\")\n",
    "\n",
    "def restaurant():\n",
    "    veg = [\"panner curry\", \"veg biriyani\", \"Vegetable Samosas\", \"Paneer Tikka Masala\", \"idly\"]\n",
    "    nonveg = [\"chicken biryani\", \"mutton fry\", \"mutton biryani\", \"chilli chicken\", \"chicken kabab\"]\n",
    "    \n",
    "    A = input(\"Enter what you want sir (veg or nonveg): \")\n",
    "    \n",
    "    if A == \"veg\":\n",
    "        print(\"Here are the vegetarian items we are serving:\", veg)\n",
    "        B = input(\"Enter the item you want to eat: \")\n",
    "        if B in veg:\n",
    "            print(f\"You orderer  {B}  will be served in 10 min please wait patiently\")\n",
    "        else:\n",
    "            print(\"Sorry, currently we are not serving this item.\")\n",
    "            \n",
    "    elif A == \"nonveg\":\n",
    "        print(\"Here are the non-veg items we are serving:\", nonveg)\n",
    "        B = input(\"Enter the item you want to eat: \")\n",
    "        if B in nonveg:\n",
    "            print(f\"You orderer   {B}  will be served in 20 min please wait patiently\")\n",
    "        else:\n",
    "            print(\"Sorry, currently we are not serving this item.\")\n",
    "            \n",
    "    else:\n",
    "        print(\"Error, please try again.\")\n",
    "        restaurant() \n",
    "\n",
    "restaurant()\n",
    "print(\"Dont skip the Bill\")\n",
    "print(\"thanks for visiting VAMSI RESTAURANT\")\n",
    "print(\"===================================================================================================================================\")"
   ]
  },
  {
   "cell_type": "code",
   "execution_count": null,
   "id": "5eafdaa2-a298-413c-96c3-8790c995750d",
   "metadata": {},
   "outputs": [],
   "source": []
  }
 ],
 "metadata": {
  "kernelspec": {
   "display_name": "Python 3 (ipykernel)",
   "language": "python",
   "name": "python3"
  },
  "language_info": {
   "codemirror_mode": {
    "name": "ipython",
    "version": 3
   },
   "file_extension": ".py",
   "mimetype": "text/x-python",
   "name": "python",
   "nbconvert_exporter": "python",
   "pygments_lexer": "ipython3",
   "version": "3.12.4"
  }
 },
 "nbformat": 4,
 "nbformat_minor": 5
}
