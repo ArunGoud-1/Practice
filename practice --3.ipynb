{
 "cells": [
  {
   "cell_type": "markdown",
   "id": "0e08a012-836d-4399-8a96-a7b962c25fae",
   "metadata": {},
   "source": [
    "## "
   ]
  },
  {
   "cell_type": "markdown",
   "id": "abd1ff47-754b-4332-85d0-c53c8870068d",
   "metadata": {},
   "source": [
    "## Write a python programm to identify wather the given number is prime number or not ?"
   ]
  },
  {
   "cell_type": "code",
   "execution_count": 22,
   "id": "bf488046-5da0-480c-b423-9e8b38fd82c9",
   "metadata": {},
   "outputs": [
    {
     "name": "stdin",
     "output_type": "stream",
     "text": [
      "Enter a number 5\n"
     ]
    },
    {
     "name": "stdout",
     "output_type": "stream",
     "text": [
      "5 : is a prime number\n"
     ]
    }
   ],
   "source": [
    "A = input(\"Enter a number\")\n",
    "for i in A:\n",
    "    i=int(i)\n",
    "    if(i%i==0 and i%1==0):\n",
    "        print(i,\": is a prime number\")\n",
    "    else:\n",
    "        print(i,\": is not a prime number\")"
   ]
  },
  {
   "cell_type": "code",
   "execution_count": null,
   "id": "37b10b81-b8d5-48a9-a35e-caad4aac2a72",
   "metadata": {},
   "outputs": [],
   "source": []
  },
  {
   "cell_type": "code",
   "execution_count": null,
   "id": "30690dc3-ad2d-4bae-8935-b8f0be91576c",
   "metadata": {},
   "outputs": [],
   "source": []
  },
  {
   "cell_type": "markdown",
   "id": "1e767f96-334c-4233-b1d0-2d98b60a2e32",
   "metadata": {},
   "source": [
    "## Write a python programm to find the febonaci series of a given 5 number"
   ]
  },
  {
   "cell_type": "code",
   "execution_count": 39,
   "id": "0e501bc7-f223-400e-bada-48fbf47909a1",
   "metadata": {},
   "outputs": [
    {
     "name": "stdin",
     "output_type": "stream",
     "text": [
      "Enter the how many numbers u want 5\n"
     ]
    },
    {
     "name": "stdout",
     "output_type": "stream",
     "text": [
      "0\n",
      "1\n",
      "1\n",
      "2\n",
      "3\n",
      "5\n",
      "8\n"
     ]
    }
   ],
   "source": [
    "g = int(input(\"Enter the how many numbers u want\"))\n",
    "a = 0\n",
    "b = 1\n",
    "print(a)\n",
    "print(b)\n",
    "for i in range(0,g):\n",
    "    h=a+b\n",
    "    a=b\n",
    "    b=h\n",
    "    print(h)\n"
   ]
  },
  {
   "cell_type": "code",
   "execution_count": null,
   "id": "9b8ff173-5549-4598-a536-52e944063504",
   "metadata": {},
   "outputs": [],
   "source": []
  },
  {
   "cell_type": "code",
   "execution_count": null,
   "id": "75d39a29-7f9d-4628-bdc9-f5df3a68987d",
   "metadata": {},
   "outputs": [],
   "source": []
  },
  {
   "cell_type": "markdown",
   "id": "e0307265-113a-48d5-89f7-f4dd32969e95",
   "metadata": {},
   "source": [
    "## Write a python programm to identify factorial number of given number ?"
   ]
  },
  {
   "cell_type": "code",
   "execution_count": 60,
   "id": "92f368ac-6f0e-4c83-997a-7bb6d05b5cfa",
   "metadata": {},
   "outputs": [
    {
     "name": "stdin",
     "output_type": "stream",
     "text": [
      "Enter a number 5\n"
     ]
    },
    {
     "name": "stdout",
     "output_type": "stream",
     "text": [
      "1\n",
      "2\n",
      "6\n",
      "24\n",
      "120\n"
     ]
    }
   ],
   "source": [
    "A = int(input(\"Enter a number\"))\n",
    "d = 1\n",
    "for i in range(1,A+1):\n",
    "    d=d*i\n",
    "    print(d)"
   ]
  },
  {
   "cell_type": "code",
   "execution_count": null,
   "id": "f8e08a65-4f1b-4b22-8003-205a408cbd74",
   "metadata": {},
   "outputs": [],
   "source": []
  },
  {
   "cell_type": "code",
   "execution_count": null,
   "id": "ba2874b4-86a3-4ef9-b55b-1285e2b7250b",
   "metadata": {},
   "outputs": [],
   "source": []
  },
  {
   "cell_type": "markdown",
   "id": "b2dd21bf-2364-466e-8883-a72b0f2f543a",
   "metadata": {},
   "source": [
    "## Write a python programm to print multiplication table of a given number."
   ]
  },
  {
   "cell_type": "code",
   "execution_count": 20,
   "id": "e6c71db4-6bb6-4618-8ad2-bf49da376e98",
   "metadata": {},
   "outputs": [
    {
     "name": "stdin",
     "output_type": "stream",
     "text": [
      "Enter a number : 9\n"
     ]
    },
    {
     "name": "stdout",
     "output_type": "stream",
     "text": [
      "9 * 1 = 9\n",
      "9 * 2 = 18\n",
      "9 * 3 = 27\n",
      "9 * 4 = 36\n",
      "9 * 5 = 45\n",
      "9 * 6 = 54\n",
      "9 * 7 = 63\n",
      "9 * 8 = 72\n",
      "9 * 9 = 81\n",
      "9 * 10 = 90\n"
     ]
    }
   ],
   "source": [
    "A = int(input(\"Enter a number :\"))\n",
    "if(A<1):\n",
    "        print(\"please enter another number\")\n",
    "else:\n",
    "    for i in range(1,11):\n",
    "        print(A,\"*\",i,\"=\",A*i)   "
   ]
  },
  {
   "cell_type": "code",
   "execution_count": null,
   "id": "034d5501-d5a4-4c97-8218-a3de4efb4c23",
   "metadata": {},
   "outputs": [],
   "source": []
  },
  {
   "cell_type": "code",
   "execution_count": null,
   "id": "8f9d2567-4de9-4b7a-b02c-8f0ea70f9467",
   "metadata": {},
   "outputs": [],
   "source": []
  },
  {
   "cell_type": "markdown",
   "id": "030c9b3d-8af4-47e3-a293-41ceeca8b240",
   "metadata": {},
   "source": [
    "## Write a python programm to count total no of digit in a number."
   ]
  },
  {
   "cell_type": "code",
   "execution_count": null,
   "id": "eecbcc1c-d9f9-43e7-bde7-eec7590256e3",
   "metadata": {},
   "outputs": [],
   "source": []
  },
  {
   "cell_type": "code",
   "execution_count": 25,
   "id": "aeec2974-3461-4281-aaf6-4364294da4f7",
   "metadata": {},
   "outputs": [
    {
     "name": "stdin",
     "output_type": "stream",
     "text": [
      "Enter a number : 123654\n"
     ]
    },
    {
     "name": "stdout",
     "output_type": "stream",
     "text": [
      "No of digits u entered is : 6\n"
     ]
    }
   ],
   "source": [
    "A = int(input(\"Enter a number :\"))\n",
    "B=0\n",
    "while(A>0):\n",
    "    B=B+1\n",
    "    A=A//10\n",
    "print(\"No of digits u entered is :\",B)"
   ]
  },
  {
   "cell_type": "code",
   "execution_count": null,
   "id": "64cfb811-1aa3-47b9-ac95-08c55c4d8bc3",
   "metadata": {},
   "outputs": [],
   "source": []
  },
  {
   "cell_type": "code",
   "execution_count": null,
   "id": "df63c736-01ed-43ba-9998-b8a919a71989",
   "metadata": {},
   "outputs": [],
   "source": []
  },
  {
   "cell_type": "markdown",
   "id": "7e6fec34-05cd-4569-aa39-0f5a35a64752",
   "metadata": {},
   "source": [
    "## Write a python programm to print list in a reverse using loop ."
   ]
  },
  {
   "cell_type": "code",
   "execution_count": null,
   "id": "7e2c742d-9662-44cb-8230-cc0c28d66368",
   "metadata": {},
   "outputs": [],
   "source": []
  },
  {
   "cell_type": "code",
   "execution_count": 15,
   "id": "dbae9e7a-b176-4b6b-a727-f9fe48e4572e",
   "metadata": {},
   "outputs": [
    {
     "name": "stdout",
     "output_type": "stream",
     "text": [
      "7\n",
      "9\n",
      "8\n",
      "4\n",
      "6\n",
      "5\n",
      "3\n",
      "2\n",
      "1\n"
     ]
    }
   ],
   "source": [
    "A=[1,2,3,5,6,4,8,9,7]\n",
    "n=len(A)-1\n",
    "while(n>= 0):\n",
    "    print(A[n])\n",
    "    n=n-1"
   ]
  },
  {
   "cell_type": "code",
   "execution_count": null,
   "id": "44b8b944-1de7-45e6-8cde-7a9ebc6900f2",
   "metadata": {},
   "outputs": [],
   "source": []
  },
  {
   "cell_type": "code",
   "execution_count": null,
   "id": "39f3ed2f-3b51-4ca2-8198-5ae0498ed33a",
   "metadata": {},
   "outputs": [],
   "source": []
  },
  {
   "cell_type": "markdown",
   "id": "cd9bf91f-c07c-44a9-8298-4b35dca1ed36",
   "metadata": {},
   "source": [
    "##   Write a python programm to display from -10 to -1 using loop."
   ]
  },
  {
   "cell_type": "code",
   "execution_count": null,
   "id": "bf8d5c28-0f38-4d69-b07d-7a4976f212d1",
   "metadata": {},
   "outputs": [],
   "source": []
  },
  {
   "cell_type": "code",
   "execution_count": 32,
   "id": "d943caf7-7516-46fe-bb16-d1032e8f7478",
   "metadata": {},
   "outputs": [
    {
     "name": "stdout",
     "output_type": "stream",
     "text": [
      "-10\n",
      "-9\n",
      "-8\n",
      "-7\n",
      "-6\n",
      "-5\n",
      "-4\n",
      "-3\n",
      "-2\n",
      "-1\n"
     ]
    }
   ],
   "source": [
    "for i in range(-10,-0):\n",
    "    print(i)"
   ]
  },
  {
   "cell_type": "code",
   "execution_count": null,
   "id": "87fe9061-fa73-4f2c-bb19-9af7a173348c",
   "metadata": {},
   "outputs": [],
   "source": []
  }
 ],
 "metadata": {
  "kernelspec": {
   "display_name": "Python 3 (ipykernel)",
   "language": "python",
   "name": "python3"
  },
  "language_info": {
   "codemirror_mode": {
    "name": "ipython",
    "version": 3
   },
   "file_extension": ".py",
   "mimetype": "text/x-python",
   "name": "python",
   "nbconvert_exporter": "python",
   "pygments_lexer": "ipython3",
   "version": "3.12.4"
  }
 },
 "nbformat": 4,
 "nbformat_minor": 5
}
